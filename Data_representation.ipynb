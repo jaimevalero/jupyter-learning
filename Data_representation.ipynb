{
 "cells": [
  {
   "cell_type": "markdown",
   "metadata": {},
   "source": [
    "# 5 Graphics howto"
   ]
  },
  {
   "cell_type": "markdown",
   "metadata": {},
   "source": [
    "This is my first playbook. Show the steps to do some data work.\n",
    "\n",
    "\n",
    "## Load Data"
   ]
  },
  {
   "cell_type": "code",
   "execution_count": null,
   "metadata": {
    "collapsed": false,
    "scrolled": true
   },
   "outputs": [],
   "source": [
    "import pandas as pd\n",
    "from numpy import genfromtxt\n",
    "df = pd.read_csv('sources/cars.csv')\n",
    "\n",
    "df\n",
    "\n",
    "\n"
   ]
  },
  {
   "cell_type": "code",
   "execution_count": null,
   "metadata": {
    "collapsed": false
   },
   "outputs": [],
   "source": [
    "df.describe()\n"
   ]
  },
  {
   "cell_type": "markdown",
   "metadata": {},
   "source": [
    "## Use graphsfrom from pyplot"
   ]
  },
  {
   "cell_type": "code",
   "execution_count": null,
   "metadata": {
    "collapsed": false
   },
   "outputs": [],
   "source": [
    "import pylab as p\n",
    "import pandas as pd\n",
    "import numpy as np\n",
    "import matplotlib.pyplot as plt\n",
    "import matplotlib\n",
    "\n",
    "df = pd.read_csv('sources/cars.csv')\n",
    "df.Origin.value_counts()\n",
    "CountStatus = df.Origin.value_counts()\n",
    "CountStatus.plot.barh()\n",
    "plt.savefig('img/cars-counts.png') \n"
   ]
  },
  {
   "cell_type": "markdown",
   "metadata": {},
   "source": [
    "![title](img/cars-counts.png)\n"
   ]
  },
  {
   "cell_type": "markdown",
   "metadata": {},
   "source": [
    "## Use SQL commands in a dataframe\n",
    "\n",
    "You can use SQL commands to handle a Data Frame wirh the the pandasql libray."
   ]
  },
  {
   "cell_type": "code",
   "execution_count": null,
   "metadata": {
    "collapsed": false
   },
   "outputs": [],
   "source": [
    "!pip install pandasql plotly 1>/dev/null\n"
   ]
  },
  {
   "cell_type": "code",
   "execution_count": null,
   "metadata": {
    "collapsed": false
   },
   "outputs": [],
   "source": [
    "import pandasql as pdsql\n",
    "import pandas as pd\n",
    "\n",
    "df = pd.read_csv('sources/cars.csv')\n",
    "\n",
    "\n",
    "pysql = lambda q: pdsql.sqldf(q, globals())\n",
    "df1 = pysql(\"SELECT AVG(Horsepower) AS Horsepower,  AVG(Weight) AS Weight,Weight/Horsepower AS Ratio,Origin  FROM df GROUP BY Origin ORDER BY Ratio \")\n",
    "df1 \n",
    "\n",
    "#df1.plot.barh()\n"
   ]
  },
  {
   "cell_type": "code",
   "execution_count": null,
   "metadata": {
    "collapsed": false
   },
   "outputs": [],
   "source": [
    "\n",
    "import matplotlib.pyplot as plt\n",
    "import matplotlib\n",
    "\n",
    "import plotly\n",
    "import plotly.plotly as pp \n",
    "import plotly.offline as py\n",
    "import plotly.graph_objs as go\n",
    "\n",
    "py.init_notebook_mode(connected=True)\n",
    "\n",
    "fig = pp.get_figure('https://plot.ly/~jaimevalero78/2', raw=True)\n",
    "\n",
    "iplot(fig,validate=False)\n",
    "\n",
    "\n"
   ]
  },
  {
   "cell_type": "markdown",
   "metadata": {},
   "source": [
    "![title](sources/Ratio.png)\n"
   ]
  },
  {
   "cell_type": "markdown",
   "metadata": {},
   "source": [
    "In the last graphic, we can see we have empty data. \n",
    "Lets fill 0's with the median data, and plot it again.\n",
    "This time, using matplotlib.\n",
    "\n"
   ]
  },
  {
   "cell_type": "code",
   "execution_count": null,
   "metadata": {
    "collapsed": false
   },
   "outputs": [],
   "source": [
    "import matplotlib.pyplot as plt\n",
    "import pylab as p\n",
    "import pandas as pd\n",
    "import numpy as np\n",
    "import matplotlib\n",
    "\n",
    "df = pd.read_csv('sources/cars.csv')\n",
    "\n",
    "# Replace 0s with median value\n",
    "df['Horsepower']=df['Horsepower'].replace(0,df['Horsepower'].mean())\n",
    "\n",
    "X_ = 'Horsepower'\n",
    "Y_ = 'Weight'\n",
    "CLASS_ = 'Origin'\n",
    "\n",
    "fig, ax = plt.subplots()\n",
    "lista_tipos = df[CLASS_].sort_values().unique()\n",
    "\n",
    "i=0\n",
    "# Iterate trough list\n",
    "for tipo in lista_tipos :\n",
    "    estetipo = df[CLASS_] == tipo\n",
    "    subdf = df[estetipo]\n",
    "\n",
    "    x = subdf[X_]\n",
    "    y = subdf[Y_]\n",
    "    c = subdf[CLASS_] \n",
    "    ax.scatter(x=x, y=y,  label = tipo  )\n",
    "    i+=1\n",
    "\n",
    "ax.set(title='Horse power / Weight Ratio', ylabel = Y_ , xlabel = X_ )\n",
    "\n",
    "plt.legend()\n",
    "    \n",
    "\n",
    "plt.show()\n",
    "\n"
   ]
  },
  {
   "cell_type": "code",
   "execution_count": null,
   "metadata": {
    "collapsed": false
   },
   "outputs": [],
   "source": [
    "import matplotlib.pyplot as plt\n",
    "import pylab as p\n",
    "import pandas as pd\n",
    "import numpy as np\n",
    "import matplotlib\n",
    "\n",
    "df = pd.read_csv('sources/cars.csv')\n",
    "\n",
    "# Replace 0s with median value\n",
    "df['Horsepower']=df['Horsepower'].replace(0,df['Horsepower'].mean())\n",
    "df['MPG']=df['MPG'].replace(0,df['MPG'].mean())\n",
    "\n",
    "X_ = 'MPG'\n",
    "Y_ = 'Displacement'\n",
    "CLASS_ = 'Cylinders'\n",
    "\n",
    "fig, ax = plt.subplots()\n",
    "lista_tipos = df[CLASS_].sort_values().unique()\n",
    "\n",
    "\n",
    "i=0\n",
    "# Iterate trough list\n",
    "for tipo in lista_tipos :\n",
    "    estetipo = df[CLASS_] == tipo\n",
    "    subdf = df[estetipo]\n",
    "\n",
    "    x = subdf[X_]\n",
    "    y = subdf[Y_]\n",
    "    c = subdf[CLASS_] \n",
    "    ax.scatter(x=x, y=y,  label = tipo  )\n",
    "    i+=1\n",
    "\n",
    "ax.set(title='MPG / Displacement Ratio', ylabel = Y_ , xlabel = X_ )\n",
    "\n",
    "plt.legend()\n",
    "    \n",
    "\n",
    "plt.show()\n",
    "    "
   ]
  },
  {
   "cell_type": "code",
   "execution_count": null,
   "metadata": {
    "collapsed": true
   },
   "outputs": [],
   "source": [
    "What we see in the last graphic, there is a correlation between the number of cilynders and the MPG metrics.\n"
   ]
  },
  {
   "cell_type": "code",
   "execution_count": null,
   "metadata": {
    "collapsed": true
   },
   "outputs": [],
   "source": []
  }
 ],
 "metadata": {
  "kernelspec": {
   "display_name": "Python 3",
   "language": "python",
   "name": "python3"
  },
  "language_info": {
   "codemirror_mode": {
    "name": "ipython",
    "version": 3
   },
   "file_extension": ".py",
   "mimetype": "text/x-python",
   "name": "python",
   "nbconvert_exporter": "python",
   "pygments_lexer": "ipython3",
   "version": "3.6.0"
  }
 },
 "nbformat": 4,
 "nbformat_minor": 2
}
